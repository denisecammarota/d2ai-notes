{
  "cells": [
    {
      "cell_type": "markdown",
      "metadata": {
        "id": "view-in-github",
        "colab_type": "text"
      },
      "source": [
        "<a href=\"https://colab.research.google.com/github/denisecammarota/d2ai-notes/blob/main/ch6_d2ai.ipynb\" target=\"_parent\"><img src=\"https://colab.research.google.com/assets/colab-badge.svg\" alt=\"Open In Colab\"/></a>"
      ]
    },
    {
      "cell_type": "code",
      "execution_count": null,
      "metadata": {
        "id": "SPNm4HIxGNor"
      },
      "outputs": [],
      "source": [
        "import numpy as np\n",
        "import pandas as pd\n",
        "import random\n",
        "import matplotlib.pyplot as plt\n",
        "import seaborn as sns\n",
        "import torch\n",
        "import torch.nn as nn\n",
        "import torch.optim as optim\n",
        "from torch.utils.data import DataLoader, TensorDataset\n",
        "from torchvision import datasets, transforms\n",
        "import torch.nn.functional as F"
      ]
    },
    {
      "cell_type": "markdown",
      "metadata": {
        "id": "fuLOHPjyHRou"
      },
      "source": [
        "# LeNet with MNIST and minibatch GD on Fashion MNIST"
      ]
    },
    {
      "cell_type": "markdown",
      "metadata": {
        "id": "JcX8VOvDM_gm"
      },
      "source": [
        "## Loading and preparing data"
      ]
    },
    {
      "cell_type": "code",
      "execution_count": null,
      "metadata": {
        "id": "dmRAKiITLoFx"
      },
      "outputs": [],
      "source": [
        "transform = transforms.Compose([\n",
        "    transforms.ToTensor(),\n",
        "    transforms.Normalize((0.5,), (0.5,))   # mean and std for grayscale\n",
        "])"
      ]
    },
    {
      "cell_type": "code",
      "execution_count": null,
      "metadata": {
        "id": "1mZBY2uIKYZA"
      },
      "outputs": [],
      "source": [
        "train_dataset = datasets.FashionMNIST(\n",
        "    root=torch.hub.get_dir(),  # uses PyTorch's hub cache directory\n",
        "    train=True,\n",
        "    download=True,\n",
        "    transform=transform\n",
        ")\n",
        "\n",
        "\n",
        "test_dataset = datasets.FashionMNIST(\n",
        "    root=torch.hub.get_dir(),\n",
        "    train=False,\n",
        "    download=True,\n",
        "    transform=transform\n",
        ")"
      ]
    },
    {
      "cell_type": "code",
      "execution_count": null,
      "metadata": {
        "id": "nc9sF_5dKYWw"
      },
      "outputs": [],
      "source": [
        "train_loader = DataLoader(train_dataset, batch_size = 128, shuffle=True)\n",
        "test_loader = DataLoader(test_dataset, batch_size = 128, shuffle=False)"
      ]
    },
    {
      "cell_type": "code",
      "execution_count": null,
      "metadata": {
        "colab": {
          "base_uri": "https://localhost:8080/"
        },
        "id": "hbIuqJ0YKYTo",
        "outputId": "d16108db-6d39-4844-d3a6-f11de22ea905"
      },
      "outputs": [
        {
          "output_type": "execute_result",
          "data": {
            "text/plain": [
              "(60000, 10000)"
            ]
          },
          "metadata": {},
          "execution_count": 15
        }
      ],
      "source": [
        "len(train_dataset), len(test_dataset) # 60.000 data for training, 10.000 data for testing"
      ]
    },
    {
      "cell_type": "code",
      "execution_count": null,
      "metadata": {
        "colab": {
          "base_uri": "https://localhost:8080/"
        },
        "id": "LUUO8ROOKXvg",
        "outputId": "c20a39d1-a81d-4e21-fc1f-d39c27ec8a4f"
      },
      "outputs": [
        {
          "output_type": "execute_result",
          "data": {
            "text/plain": [
              "(469, 79)"
            ]
          },
          "metadata": {},
          "execution_count": 16
        }
      ],
      "source": [
        "len(train_loader), len(test_loader) # 938 train dataset, 157 test dataset"
      ]
    },
    {
      "cell_type": "code",
      "execution_count": null,
      "metadata": {
        "id": "yMkmXnuYRxRy"
      },
      "outputs": [],
      "source": [
        "class_names = [\n",
        "    \"T-shirt/top\", \"Trouser\", \"Pullover\", \"Dress\", \"Coat\",\n",
        "    \"Sandal\", \"Shirt\", \"Sneaker\", \"Bag\", \"Ankle boot\"\n",
        "] # labels"
      ]
    },
    {
      "cell_type": "markdown",
      "metadata": {
        "id": "fzSCDEBgRT3Z"
      },
      "source": [
        "## Visualizing an example"
      ]
    },
    {
      "cell_type": "code",
      "execution_count": null,
      "metadata": {
        "id": "SxpojfEKN3xK"
      },
      "outputs": [],
      "source": [
        "image, label = train_dataset[0] # this is a tuple, so we deconstruct it this way"
      ]
    },
    {
      "cell_type": "code",
      "execution_count": null,
      "metadata": {
        "colab": {
          "base_uri": "https://localhost:8080/",
          "height": 428
        },
        "id": "0WsLkeD8RaUB",
        "outputId": "88cec6ad-d540-46ec-89f0-170a765b2c45"
      },
      "outputs": [
        {
          "output_type": "display_data",
          "data": {
            "text/plain": [
              "<Figure size 640x480 with 1 Axes>"
            ],
            "image/png": "[encoded data removed]"
          },
          "metadata": {}
        }
      ],
      "source": [
        "plt.imshow(image.squeeze(), cmap=\"gray\")\n",
        "plt.title(f\"Label: {class_names[label]}\")\n",
        "plt.axis(\"off\")\n",
        "plt.show()"
      ]
    },
    {
      "cell_type": "markdown",
      "metadata": {
        "id": "dQa8TJOGSj_U"
      },
      "source": [
        "##  Definining the model"
      ]
    },
    {
      "cell_type": "code",
      "execution_count": null,
      "metadata": {
        "id": "NzRR6EGLSmSE"
      },
      "outputs": [],
      "source": [
        "class LeNet(nn.Module):\n",
        "\n",
        "  def __init__(self, n_classes):\n",
        "      super().__init__()\n",
        "      self.model = nn.Sequential(nn.LazyConv2d(6, kernel_size = 5, padding = 2),\n",
        "                                 nn.Sigmoid(),\n",
        "                                 nn.AvgPool2d(kernel_size = 2, stride = 2),\n",
        "                                 nn.LazyConv2d(16, kernel_size = 5),\n",
        "                                 nn.Sigmoid(),\n",
        "                                 nn.AvgPool2d(kernel_size = 2, stride = 2),\n",
        "                                 nn.Flatten(),\n",
        "                                 nn.LazyLinear(120),\n",
        "                                 nn.Sigmoid(),\n",
        "                                 nn.LazyLinear(84),\n",
        "                                 nn.Sigmoid(),\n",
        "                                nn.LazyLinear(out_features = n_classes))\n",
        "\n",
        "  def forward(self, x):\n",
        "    return self.model(x)"
      ]
    },
    {
      "cell_type": "markdown",
      "metadata": {
        "id": "A6hhoHpTSQtr"
      },
      "source": [
        "## Training/fitting"
      ]
    },
    {
      "cell_type": "code",
      "execution_count": null,
      "metadata": {
        "colab": {
          "base_uri": "https://localhost:8080/",
          "height": 449
        },
        "id": "KAA10yXKN0ti",
        "outputId": "75254d98-5ee5-4207-835e-a89b13638a43"
      },
      "outputs": [
        {
          "output_type": "display_data",
          "data": {
            "text/plain": [
              "<Figure size 640x480 with 1 Axes>"
            ],
            "image/png": "[encoded data removed]"
          },
          "metadata": {}
        }
      ],
      "source": [
        "model = LeNet(n_classes = 10)\n",
        "criterion = nn.CrossEntropyLoss(reduction = 'mean')\n",
        "optimizer = optim.SGD(model.parameters(), lr = 0.1)\n",
        "\n",
        "n_epochs = 20\n",
        "train_loss = []\n",
        "test_loss = []\n",
        "test_accuracy = []\n",
        "\n",
        "for epoch in range(n_epochs):\n",
        "  train_aux = 0\n",
        "  test_aux = 0\n",
        "  test_aux_acc = 0\n",
        "\n",
        "  # training mode for model\n",
        "  model.train()\n",
        "  for batch_X, batch_y in train_loader:\n",
        "    optimizer.zero_grad()\n",
        "    output = model(batch_X)\n",
        "    loss = criterion(output, batch_y)\n",
        "    loss.backward()\n",
        "    optimizer.step()\n",
        "    train_aux += loss.item() * len(batch_X) # * 128 (batch_size, except for the last batch maybe)\n",
        "  train_loss.append(train_aux/len(train_dataset)) # / number of training dataset\n",
        "\n",
        "  # test mode for model\n",
        "  model.eval()\n",
        "  with torch.no_grad():\n",
        "    for batch_X, batch_y in test_loader:\n",
        "      output = model(batch_X)\n",
        "      loss = criterion(output, batch_y)\n",
        "      predicted_label = output.argmax(dim = 1)\n",
        "      test_aux += loss.item() * len(batch_X) # * 128 (batch_size, except for the last batch maybe)\n",
        "      test_aux_acc +=  (predicted_label == batch_y).sum().item()\n",
        "    test_loss.append(test_aux/len(test_dataset)) # / number of testing dataset\n",
        "    test_accuracy.append(test_aux_acc/len(test_dataset))\n",
        "\n",
        "\n",
        "plt.plot(range(n_epochs), train_loss, '-o', label = 'Train Loss')\n",
        "plt.plot(range(n_epochs), test_loss, '-o', label = 'Test Loss')\n",
        "plt.plot(range(n_epochs), test_accuracy, '-o', label = 'Test Accuracy')\n",
        "plt.xlabel('Epochs')\n",
        "plt.ylabel('Loss')\n",
        "plt.legend()\n",
        "plt.show()"
      ]
    },
    {
      "cell_type": "markdown",
      "metadata": {
        "id": "2pvlvxsviEnv"
      },
      "source": [
        "## Plotting an example"
      ]
    },
    {
      "cell_type": "code",
      "execution_count": null,
      "metadata": {
        "colab": {
          "base_uri": "https://localhost:8080/",
          "height": 428
        },
        "id": "-bzopac1iGov",
        "outputId": "f508808b-cc60-4e3d-bcad-e65794708568"
      },
      "outputs": [
        {
          "output_type": "display_data",
          "data": {
            "text/plain": [
              "<Figure size 640x480 with 1 Axes>"
            ],
            "image/png": "[encoded data removed]"
          },
          "metadata": {}
        }
      ],
      "source": [
        "# Ground truth\n",
        "image, label = test_dataset[0] # this is a tuple, so we deconstruct it this way\n",
        "plt.imshow(image.squeeze(), cmap=\"gray\")\n",
        "plt.title(f\"Label: {class_names[label]}\")\n",
        "plt.axis(\"off\")\n",
        "plt.show()"
      ]
    },
    {
      "cell_type": "code",
      "source": [
        "model(batch_X)"
      ],
      "metadata": {
        "colab": {
          "base_uri": "https://localhost:8080/"
        },
        "id": "7i1YorTEtECi",
        "outputId": "4168799a-c87b-47a3-92a2-fa3898d83612"
      },
      "execution_count": null,
      "outputs": [
        {
          "output_type": "execute_result",
          "data": {
            "text/plain": [
              "tensor([[  4.1751,   0.8851,  -0.6959,   6.3636,   1.8956,  -3.0639,   3.0389,\n",
              "          -7.6049,  -0.0181,  -4.5998],\n",
              "        [  2.0772,   0.8782,   3.0913,   3.4450,   3.9319,  -2.0389,   3.6213,\n",
              "          -8.4114,  -0.2456,  -6.2123],\n",
              "        [ -6.1502,  -4.9588,  -7.3812,  -2.5483,   0.3116,   6.7274,  -4.3181,\n",
              "          10.4544,   1.8984,   6.9643],\n",
              "        [ -0.0424,  -3.7505,  -3.0473,  -0.6642,  -1.4725,   7.1795,  -0.1252,\n",
              "          -0.0741,   2.7004,  -0.3159],\n",
              "        [ -1.0673,  -8.0799,  -0.8850,  -1.8262,   2.1004,   3.8367,   1.5009,\n",
              "          -1.3496,   7.1504,  -1.1324],\n",
              "        [  0.9834,   1.0081,   5.4296,   1.7797,   5.7867,  -2.3433,   4.2408,\n",
              "          -9.0584,   0.3690,  -8.2455],\n",
              "        [  0.1967,  -2.6305,  -2.6169,  -0.3041,  -1.5508,   6.9129,   0.0171,\n",
              "          -0.7716,   1.5272,  -0.4004],\n",
              "        [  3.8762,   2.3140,   6.4744,   2.5164,   3.9868,  -2.7978,   5.4752,\n",
              "         -11.7778,  -0.3622, -10.0095],\n",
              "        [  0.0733,  -7.6416,  -0.4821,   0.2706,   2.6108,   1.6150,   2.1451,\n",
              "          -3.4644,   6.7682,  -1.6290],\n",
              "        [ -4.1868,  -9.9479,  -7.0810,  -0.3771,  -1.0081,   4.9732,  -2.9888,\n",
              "           7.1892,   2.7029,  11.6165],\n",
              "        [  0.9686,  10.6242,  -2.1568,   4.9246,   2.5052,  -1.8176,   0.1581,\n",
              "          -1.8898,  -6.2040,  -6.3201],\n",
              "        [ -3.8589,  -9.7219,  -6.7227,  -0.5198,  -1.1435,   5.2737,  -2.7462,\n",
              "           6.5955,   2.7769,  10.8832],\n",
              "        [  2.2343,   8.0769,  -1.5355,   5.6151,   2.2237,  -2.1419,   1.2270,\n",
              "          -4.2339,  -4.5749,  -6.2330],\n",
              "        [  2.5985,  -6.5477,  -0.6394,   2.0817,   0.7958,   1.4880,   2.8019,\n",
              "          -5.7627,   5.7401,  -2.3988],\n",
              "        [  0.2424,   8.3658,  -3.5568,   5.1963,   2.0665,  -1.3221,  -0.6632,\n",
              "          -0.4613,  -5.4746,  -3.4470],\n",
              "        [ -2.7143,  -4.2650,  -3.5821,  -1.6384,   0.9413,   6.0737,  -1.0698,\n",
              "           2.8856,   3.5693,   0.4070]], grad_fn=<AddmmBackward0>)"
            ]
          },
          "metadata": {},
          "execution_count": 59
        }
      ]
    },
    {
      "cell_type": "code",
      "execution_count": null,
      "metadata": {
        "id": "Id-A5kSzlhfg"
      },
      "outputs": [],
      "source": [
        "model.eval()\n",
        "with torch.no_grad():\n",
        "  probabilities = F.softmax(model(image.unsqueeze(0)), dim = 1) # unsqueeze to add image axis\n",
        "  predicted_class = np.argmax(probabilities)"
      ]
    },
    {
      "cell_type": "code",
      "execution_count": null,
      "metadata": {
        "colab": {
          "base_uri": "https://localhost:8080/",
          "height": 428
        },
        "id": "N3wJI2bSlsY4",
        "outputId": "f2500b40-c88b-40bd-94b5-5874d747deb5"
      },
      "outputs": [
        {
          "output_type": "display_data",
          "data": {
            "text/plain": [
              "<Figure size 640x480 with 1 Axes>"
            ],
            "image/png": "[encoded data removed]"
          },
          "metadata": {}
        }
      ],
      "source": [
        "# Predicted truth\n",
        "image, label = test_dataset[0] # this is a tuple, so we deconstruct it this way\n",
        "plt.imshow(image.squeeze(), cmap=\"gray\")\n",
        "plt.title(f\"Predicted Label: {class_names[predicted_class]}\")\n",
        "plt.axis(\"off\")\n",
        "plt.show()"
      ]
    }
  ],
  "metadata": {
    "colab": {
      "provenance": [],
      "authorship_tag": "ABX9TyMun9Hsv/QAUrgBWG8FT7NY",
      "include_colab_link": true
    },
    "kernelspec": {
      "display_name": "Python 3",
      "name": "python3"
    },
    "language_info": {
      "name": "python"
    }
  },
  "nbformat": 4,
  "nbformat_minor": 0
}