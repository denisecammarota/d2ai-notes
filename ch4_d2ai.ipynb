{
  "cells": [
    {
      "cell_type": "markdown",
      "metadata": {
        "id": "view-in-github",
        "colab_type": "text"
      },
      "source": [
        "<a href=\"https://colab.research.google.com/github/denisecammarota/d2ai-notes/blob/main/ch4_d2ai.ipynb\" target=\"_parent\"><img src=\"https://colab.research.google.com/assets/colab-badge.svg\" alt=\"Open In Colab\"/></a>"
      ]
    },
    {
      "cell_type": "code",
      "execution_count": null,
      "metadata": {
        "colab": {
          "background_save": true
        },
        "id": "SPNm4HIxGNor"
      },
      "outputs": [],
      "source": [
        "import numpy as np\n",
        "import pandas as pd\n",
        "import random\n",
        "import matplotlib.pyplot as plt\n",
        "import seaborn as sns\n",
        "import torch\n",
        "import torch.nn as nn\n",
        "import torch.optim as optim\n",
        "from torch.utils.data import DataLoader, TensorDataset\n",
        "from torchvision import datasets, transforms\n",
        "import torch.nn.functional as F"
      ]
    },
    {
      "cell_type": "markdown",
      "metadata": {
        "id": "fuLOHPjyHRou"
      },
      "source": [
        "# Softmax regression with MNIST and minibatch GD"
      ]
    },
    {
      "cell_type": "markdown",
      "metadata": {
        "id": "JcX8VOvDM_gm"
      },
      "source": [
        "## Loading and preparing data"
      ]
    },
    {
      "cell_type": "code",
      "execution_count": null,
      "metadata": {
        "id": "dmRAKiITLoFx"
      },
      "outputs": [],
      "source": [
        "transform = transforms.Compose([\n",
        "    transforms.ToTensor(),\n",
        "    transforms.Normalize((0.5,), (0.5,))   # mean and std for grayscale\n",
        "])"
      ]
    },
    {
      "cell_type": "code",
      "execution_count": null,
      "metadata": {
        "id": "1mZBY2uIKYZA"
      },
      "outputs": [],
      "source": [
        "train_dataset = datasets.FashionMNIST(\n",
        "    root=torch.hub.get_dir(),  # uses PyTorch's hub cache directory\n",
        "    train=True,\n",
        "    download=True,\n",
        "    transform=transform\n",
        ")\n",
        "\n",
        "\n",
        "test_dataset = datasets.FashionMNIST(\n",
        "    root=torch.hub.get_dir(),\n",
        "    train=False,\n",
        "    download=True,\n",
        "    transform=transform\n",
        ")"
      ]
    },
    {
      "cell_type": "code",
      "execution_count": null,
      "metadata": {
        "id": "nc9sF_5dKYWw"
      },
      "outputs": [],
      "source": [
        "train_loader = DataLoader(train_dataset, batch_size=64, shuffle=True)\n",
        "test_loader = DataLoader(test_dataset, batch_size=64, shuffle=False)"
      ]
    },
    {
      "cell_type": "code",
      "execution_count": null,
      "metadata": {
        "colab": {
          "base_uri": "https://localhost:8080/"
        },
        "id": "hbIuqJ0YKYTo",
        "outputId": "885784c8-c34c-4b43-91db-4f47613de0dd"
      },
      "outputs": [
        {
          "data": {
            "text/plain": [
              "(60000, 10000)"
            ]
          },
          "execution_count": 8,
          "metadata": {},
          "output_type": "execute_result"
        }
      ],
      "source": [
        "len(train_dataset), len(test_dataset) # 60.000 data for training, 10.000 data for testing"
      ]
    },
    {
      "cell_type": "code",
      "execution_count": null,
      "metadata": {
        "colab": {
          "base_uri": "https://localhost:8080/"
        },
        "id": "LUUO8ROOKXvg",
        "outputId": "4a3fc01d-904d-4a0b-9165-a5dda08c9c0d"
      },
      "outputs": [
        {
          "data": {
            "text/plain": [
              "(938, 157)"
            ]
          },
          "execution_count": 11,
          "metadata": {},
          "output_type": "execute_result"
        }
      ],
      "source": [
        "len(train_loader), len(test_loader) # 938 train dataset, 157 test dataset"
      ]
    },
    {
      "cell_type": "code",
      "execution_count": null,
      "metadata": {
        "id": "yMkmXnuYRxRy"
      },
      "outputs": [],
      "source": [
        "class_names = [\n",
        "    \"T-shirt/top\", \"Trouser\", \"Pullover\", \"Dress\", \"Coat\",\n",
        "    \"Sandal\", \"Shirt\", \"Sneaker\", \"Bag\", \"Ankle boot\"\n",
        "] # labels"
      ]
    },
    {
      "cell_type": "markdown",
      "metadata": {
        "id": "fzSCDEBgRT3Z"
      },
      "source": [
        "## Visualizing an example"
      ]
    },
    {
      "cell_type": "code",
      "execution_count": null,
      "metadata": {
        "id": "SxpojfEKN3xK"
      },
      "outputs": [],
      "source": [
        "image, label = train_dataset[0] # this is a tuple, so we deconstruct it this way"
      ]
    },
    {
      "cell_type": "code",
      "execution_count": null,
      "metadata": {
        "colab": {
          "base_uri": "https://localhost:8080/",
          "height": 428
        },
        "id": "0WsLkeD8RaUB",
        "outputId": "3c9ffea5-fb93-4de3-8b3d-d6a6c2f163c1"
      },
      "outputs": [
        {
          "data": {
            "image/png": "[encoded data removed]",
            "text/plain": [
              "<Figure size 640x480 with 1 Axes>"
            ]
          },
          "metadata": {},
          "output_type": "display_data"
        }
      ],
      "source": [
        "plt.imshow(image.squeeze(), cmap=\"gray\")\n",
        "plt.title(f\"Label: {class_names[label]}\")\n",
        "plt.axis(\"off\")\n",
        "plt.show()"
      ]
    },
    {
      "cell_type": "markdown",
      "metadata": {
        "id": "dQa8TJOGSj_U"
      },
      "source": [
        "##  Definining the model"
      ]
    },
    {
      "cell_type": "code",
      "execution_count": null,
      "metadata": {
        "id": "NzRR6EGLSmSE"
      },
      "outputs": [],
      "source": [
        "class SoftmaxRegression(nn.Module):\n",
        "\n",
        "  def __init__(self, n_classes):\n",
        "      super().__init__()\n",
        "      self.model = nn.Sequential(nn.Flatten(),\n",
        "                                  nn.LazyLinear(out_features = n_classes))\n",
        "      # the loss already calculates the softmax before computing, so no softmax here\n",
        "\n",
        "  def forward(self, x):\n",
        "    return self.model(x)"
      ]
    },
    {
      "cell_type": "markdown",
      "metadata": {
        "id": "A6hhoHpTSQtr"
      },
      "source": [
        "## Training/fitting"
      ]
    },
    {
      "cell_type": "code",
      "execution_count": null,
      "metadata": {
        "colab": {
          "base_uri": "https://localhost:8080/",
          "height": 449
        },
        "id": "KAA10yXKN0ti",
        "outputId": "b34189c2-e57c-4e6c-e132-4a8b16ddb933"
      },
      "outputs": [
        {
          "data": {
            "image/png": "[encoded data removed]",
            "text/plain": [
              "<Figure size 640x480 with 1 Axes>"
            ]
          },
          "metadata": {},
          "output_type": "display_data"
        }
      ],
      "source": [
        "model = SoftmaxRegression(n_classes = 10)\n",
        "criterion = nn.CrossEntropyLoss(reduction = 'mean')\n",
        "optimizer = optim.SGD(model.parameters(), lr = 0.01)\n",
        "\n",
        "n_epochs = 50\n",
        "train_loss = []\n",
        "test_loss = []\n",
        "test_accuracy = []\n",
        "\n",
        "for epoch in range(n_epochs):\n",
        "  train_aux = 0\n",
        "  test_aux = 0\n",
        "  test_aux_acc = 0\n",
        "\n",
        "  # training mode for model\n",
        "  model.train()\n",
        "  for batch_X, batch_y in train_loader:\n",
        "    optimizer.zero_grad()\n",
        "    output = model(batch_X)\n",
        "    loss = criterion(output, batch_y)\n",
        "    loss.backward()\n",
        "    optimizer.step()\n",
        "    train_aux += loss.item() * len(batch_X) # * 64 (batch_size, except for the last batch maybe)\n",
        "  train_loss.append(train_aux/len(train_dataset)) # / number of training dataset\n",
        "\n",
        "  # test mode for model\n",
        "  model.eval()\n",
        "  with torch.no_grad():\n",
        "    for batch_X, batch_y in test_loader:\n",
        "      output = model(batch_X)\n",
        "      loss = criterion(output, batch_y)\n",
        "      predicted_label = output.argmax(dim = 1)\n",
        "      test_aux += loss.item() * len(batch_X) # * 64 (batch_size, except for the last batch maybe)\n",
        "      test_aux_acc +=  (predicted_label == batch_y).sum().item()\n",
        "    test_loss.append(test_aux/len(test_dataset)) # / number of testing dataset\n",
        "    test_accuracy.append(test_aux_acc/len(test_dataset))\n",
        "\n",
        "\n",
        "plt.plot(range(n_epochs), train_loss, '-o', label = 'Train Loss')\n",
        "plt.plot(range(n_epochs), test_loss, '-o', label = 'Test Loss')\n",
        "plt.plot(range(n_epochs), test_accuracy, '-o', label = 'Test Accuracy')\n",
        "plt.xlabel('Epochs')\n",
        "plt.ylabel('Loss')\n",
        "plt.legend()\n",
        "plt.show()"
      ]
    },
    {
      "cell_type": "markdown",
      "metadata": {
        "id": "2pvlvxsviEnv"
      },
      "source": [
        "## Plotting an example"
      ]
    },
    {
      "cell_type": "code",
      "execution_count": null,
      "metadata": {
        "colab": {
          "base_uri": "https://localhost:8080/",
          "height": 428
        },
        "id": "-bzopac1iGov",
        "outputId": "6a3f153f-dd3b-4946-fee1-c5acb96a1f84"
      },
      "outputs": [
        {
          "data": {
            "image/png": "[encoded data removed]",
            "text/plain": [
              "<Figure size 640x480 with 1 Axes>"
            ]
          },
          "metadata": {},
          "output_type": "display_data"
        }
      ],
      "source": [
        "# Ground truth\n",
        "image, label = test_dataset[0] # this is a tuple, so we deconstruct it this way\n",
        "plt.imshow(image.squeeze(), cmap=\"gray\")\n",
        "plt.title(f\"Label: {class_names[label]}\")\n",
        "plt.axis(\"off\")\n",
        "plt.show()"
      ]
    },
    {
      "cell_type": "code",
      "execution_count": null,
      "metadata": {
        "id": "Id-A5kSzlhfg"
      },
      "outputs": [],
      "source": [
        "model.eval()\n",
        "with torch.no_grad():\n",
        "  probabilities = F.softmax(model(image), dim = 1)\n",
        "  predicted_class = np.argmax(probabilities)"
      ]
    },
    {
      "cell_type": "code",
      "execution_count": null,
      "metadata": {
        "colab": {
          "base_uri": "https://localhost:8080/",
          "height": 428
        },
        "id": "N3wJI2bSlsY4",
        "outputId": "5a82c5dd-49b3-4073-d7a8-b6787aeb65a9"
      },
      "outputs": [
        {
          "data": {
            "image/png": "[encoded data removed]",
            "text/plain": [
              "<Figure size 640x480 with 1 Axes>"
            ]
          },
          "metadata": {},
          "output_type": "display_data"
        }
      ],
      "source": [
        "# Predicted truth\n",
        "image, label = test_dataset[0] # this is a tuple, so we deconstruct it this way\n",
        "plt.imshow(image.squeeze(), cmap=\"gray\")\n",
        "plt.title(f\"Predicted Label: {class_names[predicted_class]}\")\n",
        "plt.axis(\"off\")\n",
        "plt.show()"
      ]
    }
  ],
  "metadata": {
    "colab": {
      "provenance": [],
      "authorship_tag": "ABX9TyMSY2z76Y1SyO1B9VuLGRxV",
      "include_colab_link": true
    },
    "kernelspec": {
      "display_name": "Python 3",
      "name": "python3"
    },
    "language_info": {
      "name": "python"
    }
  },
  "nbformat": 4,
  "nbformat_minor": 0
}